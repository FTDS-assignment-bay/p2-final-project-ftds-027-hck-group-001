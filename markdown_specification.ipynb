{
 "cells": [
  {
   "cell_type": "markdown",
   "id": "49fec760",
   "metadata": {},
   "source": [
    "| Category     | iPhone 13 Specification                                         |\n",
    "| ------------ | --------------------------------------------------------------- |\n",
    "| Release      | Sept 2021                                                       |\n",
    "| Display      | 6.1″ OLED, 60 Hz, 800 nits typical, 1200 nits peak              |\n",
    "| Performance  | A15 Bionic (6-core CPU, 4-core GPU), 4 GB RAM                   |\n",
    "| Battery      | 3227 mAh, solid endurance, fast + wireless charging             |\n",
    "| Cameras      | Dual 12 MP rear w/ sensor-shift & Cinematic video, 12 MP selfie |\n",
    "| Build        | IP68, Ceramic Shield, multiple colors                           |\n",
    "| Connectivity | 5G, Wi‑Fi 6, Bluetooth 5.0, UWB, NFC                            |\n",
    "| Software     | iOS 15–18, Face ID, sensor suite                                |"
   ]
  },
  {
   "cell_type": "markdown",
   "id": "6b08e9ac",
   "metadata": {},
   "source": [
    "| Category         | iPhone 14 Specification                                                                   |\n",
    "| ---------------- | ----------------------------------------------------------------------------------------- |\n",
    "|   Release        | Sept 16, 2022 (Plus Oct 7)                                                                |\n",
    "|   Display        | 6.1″ OLED, 60 Hz, 1200‑nit peak brightness                                                |\n",
    "|   Performance    | A15 Bionic with 6 GB RAM                                                                  |\n",
    "|   Battery        | 3,279 mAh, \\~15 h browsing, supports 20 W wired and 15 W wireless charging                |\n",
    "|   Cameras        | Dual 12 MP rear w/ sensor‑shift OIS; 12 MP front with autofocus; Cinematic & Action Modes |\n",
    "|   Build          | IP68, Ceramic Shield, multiple colors                                                     |\n",
    "|   Connectivity   | 5G, Wi‑Fi 6, Bluetooth 5.3, UWB, satellite SOS                                            |\n",
    "|   Software       | iOS 16–18; emergency satellite messaging, Photonic Engine                                 |"
   ]
  },
  {
   "cell_type": "markdown",
   "id": "27131ef1",
   "metadata": {},
   "source": [
    "| Category         | iPhone 15 Specification                                                     |\n",
    "| ---------------- | --------------------------------------------------------------------------- |\n",
    "|   Release        | Sept 22, 2023 (Plus same date)                                              |\n",
    "|   Display        | 6.1″ OLED, 60 Hz, \\~1,000 nits typical, 2,000 nits peak, Dynamic Island     |\n",
    "|   Performance    | A16 Bionic, 6 GB RAM                                                        |\n",
    "|   Battery        | 3,349 mAh, \\~13 h browsing / 8 h gaming, USB‑C charging                     |\n",
    "|   Cameras        | 48 MP main w/ sensor‑shift & 12 MP ultra-wide, 12 MP front, Cinematic Mode  |\n",
    "|   Build          | IP68, Ceramic Shield, colorful aluminum/glass design                        |\n",
    "|   Connectivity   | 5G, Wi‑Fi 6, Bluetooth 5.x, UWB, USB‑C, satellite SOS & Roadside Assistance |\n",
    "|   Software       | iOS 17/18 with Dynamic Island, USB‑C support, enhanced camera tech          |"
   ]
  },
  {
   "cell_type": "markdown",
   "id": "5c5ab867",
   "metadata": {},
   "source": []
  }
 ],
 "metadata": {
  "language_info": {
   "name": "python"
  }
 },
 "nbformat": 4,
 "nbformat_minor": 5
}
